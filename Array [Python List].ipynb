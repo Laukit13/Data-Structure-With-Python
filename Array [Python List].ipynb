{
 "cells": [
  {
   "cell_type": "markdown",
   "id": "5561ba81",
   "metadata": {},
   "source": [
    "# Array [Python List]"
   ]
  },
  {
   "cell_type": "markdown",
   "id": "360b8c73",
   "metadata": {},
   "source": [
    "**1.Let us say your expense for every month are listed below**\n",
    "January - 2200\n",
    "February - 2350\n",
    "March - 2600\n",
    "April - 2130\n",
    "May - 2190\n",
    "\n",
    "1. In Feb, how many dollars you spent extra compare to January?\n",
    "2. Find out your total expense in first quarter (first three months) of the year.\n",
    "3. Find out if you spent exactly 2000 dollars in any month\n",
    "4. June month just finished and your expense is 1980 dollar. Add this item to our monthly expense list\n",
    "5. You returned an item that you bought in a month of April and\n",
    "got a refund of 200$. Make a correction to your monthly expense list\n",
    "based on this.<br>\n",
    "                                                        👇👇"
   ]
  },
  {
   "cell_type": "code",
   "execution_count": 1,
   "id": "56cb6687",
   "metadata": {},
   "outputs": [
    {
     "name": "stdout",
     "output_type": "stream",
     "text": [
      "150\n",
      "7150\n",
      "Did I spent 2000$ in any month?  False\n",
      "[2200, 2350, 2600, 2130, 2190, 1980]\n",
      "[2200, 2350, 2600, 1930, 2190, 1980]\n"
     ]
    }
   ],
   "source": [
    "exp=[2200,2350,2600,2130,2190]\n",
    "print(exp[1]-exp[0]) #In Feb, how many dollars you spent extra compare to January? \n",
    "sum=0\n",
    "for i in range(0,3): #Find out your total expense in first quarter (first three months) of the year.\n",
    "    sum+=exp[i]      \n",
    "print(sum)\n",
    "print(\"Did I spent 2000$ in any month? \", 2000 in exp) #Find out if you spent exactly 2000 dollars in any month\n",
    "exp.append(1980)\n",
    "print(exp) #June month just finished and your expense is 1980 dollar. Add this item to our monthly expense list\n",
    "exp[3]=exp[3]-200\n",
    "print(exp)"
   ]
  },
  {
   "cell_type": "markdown",
   "id": "be3ec34f",
   "metadata": {},
   "source": [
    "**You have a list of your favourite marvel super heros.**\n",
    "**heros=['spider man','thor','hulk','iron man','captain america']**\n",
    "1. Length of the list\n",
    "2. Add 'black panther' at the end of this list\n",
    "3. You realize that you need to add 'black panther' after 'hulk',\n",
    "   so remove it from the list first and then add it after 'hulk'\n",
    "4. Now you don't like thor and hulk because they get angry easily :)\n",
    "   So you want to remove thor and hulk from list and replace them with doctor strange (because he is cool).\n",
    "   Do that with one line of code.\n",
    "5. Sort the heros list in alphabetical order (Hint. Use dir() functions to list down all functions available in list)<br>\n",
    "                                                        👇👇"
   ]
  },
  {
   "cell_type": "code",
   "execution_count": 2,
   "id": "224f96a4",
   "metadata": {},
   "outputs": [
    {
     "name": "stdout",
     "output_type": "stream",
     "text": [
      "5\n",
      "['spider man', 'thor', 'hulk', 'iron man', 'captain america', 'black panther']\n",
      "['spider man', 'thor', 'hulk', 'black panther', 'iron man', 'captain america']\n",
      "['spider man', 'doctor stranger', 'black panther', 'iron man', 'captain america']\n",
      "['black panther', 'captain america', 'doctor stranger', 'iron man', 'spider man']\n"
     ]
    }
   ],
   "source": [
    "heros=['spider man','thor','hulk','iron man','captain america']\n",
    "print(len(heros))\n",
    "heros.append('black panther')\n",
    "print(heros)\n",
    "heros.remove('black panther')\n",
    "heros.insert(3,'black panther')\n",
    "print(heros)\n",
    "heros[1:3]=['doctor stranger']\n",
    "print(heros)\n",
    "heros.sort()\n",
    "print(heros)"
   ]
  },
  {
   "cell_type": "markdown",
   "id": "cee35f1e",
   "metadata": {},
   "source": [
    "**Create a list of all odd numbers between 1 and a max number. Max number is something you need to take from a user using input() function**<br>\n",
    "👇👇"
   ]
  },
  {
   "cell_type": "code",
   "execution_count": 3,
   "id": "3c98ba80",
   "metadata": {},
   "outputs": [
    {
     "name": "stdout",
     "output_type": "stream",
     "text": [
      "Enter the max Number 15\n",
      "[1, 3, 5, 7, 9, 11, 13]\n"
     ]
    }
   ],
   "source": [
    "max=int(input(\"Enter the max Number \"))\n",
    "my_list=[]\n",
    "for i in range(0,max):\n",
    "    if(i%2 != 0):\n",
    "        my_list.append(i)\n",
    "print(my_list)"
   ]
  }
 ],
 "metadata": {
  "kernelspec": {
   "display_name": "Python 3 (ipykernel)",
   "language": "python",
   "name": "python3"
  },
  "language_info": {
   "codemirror_mode": {
    "name": "ipython",
    "version": 3
   },
   "file_extension": ".py",
   "mimetype": "text/x-python",
   "name": "python",
   "nbconvert_exporter": "python",
   "pygments_lexer": "ipython3",
   "version": "3.9.7"
  }
 },
 "nbformat": 4,
 "nbformat_minor": 5
}
