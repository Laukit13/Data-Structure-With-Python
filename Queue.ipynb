{
 "cells": [
  {
   "cell_type": "markdown",
   "id": "6aab1d76",
   "metadata": {},
   "source": [
    "# Queue"
   ]
  },
  {
   "cell_type": "markdown",
   "id": "790514c9",
   "metadata": {},
   "source": [
    "**Implemening with Deque**"
   ]
  },
  {
   "cell_type": "code",
   "execution_count": 2,
   "id": "7cda0681",
   "metadata": {},
   "outputs": [],
   "source": [
    "from collections import deque\n",
    "\n",
    "class Queue:\n",
    "    \n",
    "    def __init__(self):\n",
    "        self.buffer = deque()\n",
    "    \n",
    "    def enqueue(self, val):\n",
    "        self.buffer.appendleft(val)\n",
    "        \n",
    "    def dequeue(self):\n",
    "        return self.buffer.pop()\n",
    "    \n",
    "    def is_empty(self):\n",
    "        return len(self.buffer)==0\n",
    "    \n",
    "    def size(self):\n",
    "        return len(self.buffer)\n",
    "    \n",
    "    def printque(self):\n",
    "        print(self.buffer)\n",
    "        \n",
    "pq = Queue()\n",
    "pq.enqueue(\"HEllo\")\n",
    "pq.enqueue(\"Hi\")\n",
    "pq.enqueue(\"Hola\")"
   ]
  },
  {
   "cell_type": "code",
   "execution_count": 3,
   "id": "ee730685",
   "metadata": {},
   "outputs": [
    {
     "name": "stdout",
     "output_type": "stream",
     "text": [
      "deque(['Hola', 'Hi', 'HEllo'])\n"
     ]
    }
   ],
   "source": [
    "pq.printque()"
   ]
  },
  {
   "cell_type": "code",
   "execution_count": 4,
   "id": "ad019170",
   "metadata": {},
   "outputs": [
    {
     "data": {
      "text/plain": [
       "'HEllo'"
      ]
     },
     "execution_count": 4,
     "metadata": {},
     "output_type": "execute_result"
    }
   ],
   "source": [
    "pq.dequeue()"
   ]
  },
  {
   "cell_type": "code",
   "execution_count": 5,
   "id": "2a951626",
   "metadata": {},
   "outputs": [
    {
     "data": {
      "text/plain": [
       "2"
      ]
     },
     "execution_count": 5,
     "metadata": {},
     "output_type": "execute_result"
    }
   ],
   "source": [
    "pq.size()"
   ]
  }
 ],
 "metadata": {
  "kernelspec": {
   "display_name": "Python 3 (ipykernel)",
   "language": "python",
   "name": "python3"
  },
  "language_info": {
   "codemirror_mode": {
    "name": "ipython",
    "version": 3
   },
   "file_extension": ".py",
   "mimetype": "text/x-python",
   "name": "python",
   "nbconvert_exporter": "python",
   "pygments_lexer": "ipython3",
   "version": "3.9.7"
  }
 },
 "nbformat": 4,
 "nbformat_minor": 5
}
