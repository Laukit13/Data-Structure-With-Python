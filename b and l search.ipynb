{
 "cells": [
  {
   "cell_type": "code",
   "execution_count": 6,
   "id": "7ebe7bb6",
   "metadata": {},
   "outputs": [
    {
     "name": "stdout",
     "output_type": "stream",
     "text": [
      "Value found at index 2\n"
     ]
    }
   ],
   "source": [
    "def linear_search(array, value):\n",
    "  for i in range(len(array)):\n",
    "    if array[i] == value:\n",
    "      return i\n",
    "  return -1\n",
    "\n",
    "# Test the function\n",
    "array = [1, 2, 3, 4, 5]\n",
    "value = 3\n",
    "\n",
    "result = linear_search(array, value)\n",
    "if result != -1:\n",
    "  print(f\"Value found at index {result}\")\n",
    "else:\n",
    "  print(\"Value not found\")"
   ]
  },
  {
   "cell_type": "code",
   "execution_count": 32,
   "id": "0e7a5deb",
   "metadata": {},
   "outputs": [
    {
     "name": "stdout",
     "output_type": "stream",
     "text": [
      "Value found at index 8\n"
     ]
    }
   ],
   "source": [
    "def binary_search(array, value):\n",
    "    low = 0\n",
    "    high = len(array) - 1\n",
    "\n",
    "    while low <= high:\n",
    "        mid = (low + high) // 2\n",
    "        if array[mid] == value:\n",
    "            return mid\n",
    "        elif array[mid] < value:\n",
    "            low = mid + 1\n",
    "        else:\n",
    "            high = mid - 1\n",
    "\n",
    "    return -1\n",
    "\n",
    "array = [1, 2, 3, 4, 5, 6, 7, 8, 9,10]\n",
    "value = 9\n",
    "\n",
    "result = binary_search(array, value)\n",
    "if result != -1:\n",
    "    print(f\"Value found at index {result}\")\n",
    "else:\n",
    "    print(\"Value not found\")\n"
   ]
  },
  {
   "cell_type": "code",
   "execution_count": 33,
   "id": "d6cdd878",
   "metadata": {},
   "outputs": [
    {
     "name": "stdout",
     "output_type": "stream",
     "text": [
      "Value found at index 2\n"
     ]
    }
   ],
   "source": [
    "def binary_search_recursive(array, value, low, high):\n",
    "  if low > high:\n",
    "    return -1\n",
    "  mid = (low + high) // 2\n",
    "  if array[mid] == value:\n",
    "    return mid\n",
    "  elif array[mid] < value:\n",
    "    return binary_search_recursive(array, value, mid + 1, high)\n",
    "  else:\n",
    "    return binary_search_recursive(array, value, low, mid - 1)\n",
    "\n",
    "# Test the function\n",
    "array = [1, 2, 3, 4, 5]\n",
    "value = 3\n",
    "\n",
    "result = binary_search_recursive(array, value, 0, len(array) - 1)\n",
    "if result != -1:\n",
    "  print(f\"Value found at index {result}\")\n",
    "else:\n",
    "  print(\"Value not found\")\n"
   ]
  },
  {
   "cell_type": "code",
   "execution_count": 34,
   "id": "8042192f",
   "metadata": {},
   "outputs": [
    {
     "name": "stdout",
     "output_type": "stream",
     "text": [
      "Value found at index 2\n"
     ]
    }
   ],
   "source": [
    "def linear_search_recursive(array, value, index):\n",
    "  if index >= len(array):\n",
    "    return -1\n",
    "  if array[index] == value:\n",
    "    return index\n",
    "  return linear_search_recursive(array, value, index + 1)\n",
    "\n",
    "# Test the function\n",
    "array = [1, 2, 3, 4, 5]\n",
    "value = 3\n",
    "\n",
    "result = linear_search_recursive(array, value, 0)\n",
    "if result != -1:\n",
    "  print(f\"Value found at index {result}\")\n",
    "else:\n",
    "  print(\"Value not found\")\n"
   ]
  },
  {
   "cell_type": "code",
   "execution_count": null,
   "id": "d2f8f2f1",
   "metadata": {},
   "outputs": [],
   "source": []
  }
 ],
 "metadata": {
  "kernelspec": {
   "display_name": "Python 3 (ipykernel)",
   "language": "python",
   "name": "python3"
  },
  "language_info": {
   "codemirror_mode": {
    "name": "ipython",
    "version": 3
   },
   "file_extension": ".py",
   "mimetype": "text/x-python",
   "name": "python",
   "nbconvert_exporter": "python",
   "pygments_lexer": "ipython3",
   "version": "3.9.7"
  }
 },
 "nbformat": 4,
 "nbformat_minor": 5
}
